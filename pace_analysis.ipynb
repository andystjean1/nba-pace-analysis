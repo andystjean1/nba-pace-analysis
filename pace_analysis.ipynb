{
 "cells": [
  {
   "cell_type": "code",
   "execution_count": 56,
   "metadata": {},
   "outputs": [],
   "source": [
    "\n",
    "#utility imports\n",
    "import time\n",
    "import statistics\n",
    "from team_pace import build_pace_dictionary\n",
    "\n",
    "#data sciencey imports\n",
    "import pandas as pd\n",
    "import matplotlib.pyplot as plt\n",
    "import numpy as np\n",
    "\n",
    "#nba_api imports\n",
    "from nba_api.stats.static import players\n",
    "from nba_api.stats.static import teams\n",
    "\n",
    "from nba_api.stats.endpoints import playergamelog\n",
    "from nba_api.stats.endpoints import teamgamelog\n",
    "from nba_api.stats.endpoints import boxscoreadvancedv2\n",
    "\n",
    "from nba_api.stats.endpoints import leaguegamefinder\n",
    "from nba_api.stats.library.parameters import SeasonAll\n",
    "\n",
    "#CONSTANTS\n",
    "SEASON = '2019'\n",
    "TEAM_LIST = teams.get_teams()\n"
   ]
  },
  {
   "cell_type": "code",
   "execution_count": 9,
   "metadata": {},
   "outputs": [],
   "source": [
    "#build the pace dictionary - (takes a while)\n",
    "team_pace_dict = build_pace_dictionary(SEASON)"
   ]
  },
  {
   "cell_type": "code",
   "execution_count": 50,
   "metadata": {},
   "outputs": [],
   "source": [
    "#find the team abbreviation given the team name\n",
    "def add_abreviation(team_id):\n",
    "    return [t[\"abbreviation\"] for t in TEAM_LIST if t[\"id\"] == team_id][0]\n",
    "\n",
    "#build the season pace dictionary (index = team_id)\n",
    "pace_df = pd.DataFrame.from_dict(team_pace_dict, \"index\")\n",
    "\n",
    "pace_df.rename(columns={0:\"pace\"}, inplace=True)\n",
    "pace_df[\"pace\"] = pd.to_numeric(pace_df[\"pace\"])\n",
    "pace_df[\"abbv\"] = pace_df.apply(lambda row: add_abreviation(row.name), axis=1)\n",
    "\n",
    "pace_df.sort_values(by=[\"pace\"], ascending=False, inplace=True)\n"
   ]
  },
  {
   "cell_type": "code",
   "execution_count": 79,
   "metadata": {},
   "outputs": [
    {
     "name": "stdout",
     "output_type": "stream",
     "text": [
      "Mean:  99.99\n",
      " Std:  2.17\n"
     ]
    }
   ],
   "source": [
    "#find some descriptive stats for the pace\n",
    "\n",
    "pace_mean = pace_df[\"pace\"].mean()\n",
    "pace_std = pace_df[\"pace\"].std()\n",
    "\n",
    "print(\"Mean: \", round(pace_mean,2))\n",
    "print(\" Std: \", round(pace_std,2))\n"
   ]
  },
  {
   "cell_type": "code",
   "execution_count": 100,
   "metadata": {},
   "outputs": [],
   "source": [
    "#classify the teams by pace\n",
    "#label key\n",
    "# 0 - slower - a team that is more than 1 std below the mean\n",
    "# 1 - slow - a team that is less than 1 std below the mean\n",
    "# 2 - fast - a team that is less than 1 std above the mean\n",
    "# 3 - faster - a team that is more than 1 std above the mean\n",
    "def label_team_pace(pace, pace_mean, pace_std):\n",
    "    \n",
    "    if(pace < pace_mean): \n",
    "        if(pace < pace_mean-pace_std): #a slower team\n",
    "            label = 0\n",
    "        else: # a slow team\n",
    "            label = 1\n",
    "    else:\n",
    "        if(pace > pace_mean+pace_std): # a faster team\n",
    "            label = 3\n",
    "        else: # a fast team\n",
    "            label = 2\n",
    "    \n",
    "    return label\n",
    "\n",
    "#add the label to the team\n",
    "pace_df[\"pace_label\"] = pace_df.apply(lambda row: label_team_pace(row.pace, pace_mean, pace_std), axis=1)\n"
   ]
  },
  {
   "cell_type": "code",
   "execution_count": 103,
   "metadata": {},
   "outputs": [
    {
     "data": {
      "image/png": "[encoded data removed]",
      "text/plain": [
       "<Figure size 432x288 with 1 Axes>"
      ]
     },
     "metadata": {
      "needs_background": "light"
     },
     "output_type": "display_data"
    }
   ],
   "source": [
    "#a nice bar chart\n",
    "\n",
    "def label_colors(label):\n",
    "    if(label == 0):\n",
    "        return 'b'\n",
    "    elif(label == 1):\n",
    "        return 'r'\n",
    "    elif(label == 2):\n",
    "        return 'y'\n",
    "    else:\n",
    "        return 'g'\n",
    "\n",
    "#settings\n",
    "y_offset = 95\n",
    "y_min = 0\n",
    "y_max = 10\n",
    "y_step = 0.5\n",
    "\n",
    "#create the x and y sets and labels\n",
    "pace_y = pace_df[\"pace\"].apply(lambda x: x - y_offset)\n",
    "y_labels = np.arange(y_min+y_offset, y_max+y_offset, step=y_step)\n",
    "x_labels = pace_df[\"abbv\"]\n",
    "pace_x = np.arange(len(labels))\n",
    "color_labels = pace_df.apply(lambda row: label_colors(row.pace_label), axis=1)\n",
    "\n",
    "#graph it\n",
    "plt.bar(pace_x, pace_y, align=\"center\", alpha=0.5, color=color_labels)\n",
    "plt.xticks(pace_x, x_labels, rotation=\"vertical\")\n",
    "plt.yticks(np.arange(y_min, y_max, step=y_step), y_labels)\n",
    "plt.ylabel(\"Pace\")\n",
    "plt.title(\"Team's Season Pace 2018-2019\")\n",
    "plt.show()"
   ]
  },
  {
   "cell_type": "markdown",
   "metadata": {},
   "source": [
    "The bar graph shows a significant range in pace across teams in the NBA.  The Atlanata Hawks have the fastest pace of 103.9 possessions per game.  The Cleveland Cavaliers have the slowest pace with 96.6 possessions per game.  This gives a range of 7.3 possessions per game.  The average pace in the 2018-2019 season was 99.99 possessions/game with a standard deviation of 2.17 possessions/game.  ADD A LEGEND TO THE FIGURE TO EXPLAIN THE CLASSIFICATION AND COLOR OF EACH TEAM.  It's interesting to note the difference at the boundary of faster and fast teams.  The Thunder and Clippers have a difference of 1.1 possessions/game which is much larger than the boundary between the Rockets and Nuggets, which is 0.2 possessions.  There is a large differnce between the slowest two teams and the next highest.  The Grizzlies and Cavaliers both have a pace of 96.6, which is 0.8 possessions/game less than the next highest (Hornets - 97.4).  The higer differnece in a faster team's pace leads me to believe that a faster team will have a stronger effect on their opponents pace during a game.  The difference in pace will be measured by comparing the pace of the game to the teams season average."
   ]
  },
  {
   "cell_type": "code",
   "execution_count": null,
   "metadata": {},
   "outputs": [],
   "source": []
  }
 ],
 "metadata": {
  "kernelspec": {
   "display_name": "Python 3",
   "language": "python",
   "name": "python3"
  },
  "language_info": {
   "codemirror_mode": {
    "name": "ipython",
    "version": 3
   },
   "file_extension": ".py",
   "mimetype": "text/x-python",
   "name": "python",
   "nbconvert_exporter": "python",
   "pygments_lexer": "ipython3",
   "version": "3.6.4"
  }
 },
 "nbformat": 4,
 "nbformat_minor": 2
}
