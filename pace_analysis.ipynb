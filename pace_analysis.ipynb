{
 "cells": [
  {
   "cell_type": "code",
   "execution_count": 1,
   "metadata": {},
   "outputs": [],
   "source": [
    "\n",
    "#utility imports\n",
    "import time\n",
    "import statistics\n",
    "from team_pace import build_pace_dictionary\n",
    "from team_pace import build_team_id_dictionary\n",
    "from scraper import convert_gamelog_to_dataframe\n",
    "\n",
    "#data sciencey imports\n",
    "import pandas as pd\n",
    "import matplotlib.pyplot as plt\n",
    "import numpy as np\n",
    "\n",
    "#nba_api imports\n",
    "from nba_api.stats.static import players\n",
    "from nba_api.stats.static import teams\n",
    "\n",
    "#CONSTANTS\n",
    "SEASON = '2019'\n",
    "TEAM_LIST = teams.get_teams()\n"
   ]
  },
  {
   "cell_type": "code",
   "execution_count": 2,
   "metadata": {},
   "outputs": [],
   "source": [
    "#build the pace dictionary - (takes a while)\n",
    "team_pace_dict = build_pace_dictionary(SEASON)\n",
    "\n",
    "#build the abbreviation and id dictionary\n",
    "team_id_dict = build_team_id_dictionary(SEASON)"
   ]
  },
  {
   "cell_type": "code",
   "execution_count": 3,
   "metadata": {},
   "outputs": [],
   "source": [
    "#find the team abbreviation given the team name\n",
    "def add_abreviation(team_id):\n",
    "    return [t[\"abbreviation\"] for t in TEAM_LIST if t[\"id\"] == team_id][0]\n",
    "\n",
    "#build the season pace dictionary (index = team_id)\n",
    "pace_df = pd.DataFrame.from_dict(team_pace_dict, \"index\")\n",
    "\n",
    "pace_df.rename(columns={0:\"pace\"}, inplace=True)\n",
    "pace_df[\"pace\"] = pd.to_numeric(pace_df[\"pace\"])\n",
    "pace_df[\"abbv\"] = pace_df.apply(lambda row: add_abreviation(row.name), axis=1)\n",
    "\n",
    "pace_df.sort_values(by=[\"pace\"], ascending=False, inplace=True)\n",
    "\n",
    "#add the rank column (the method first assigns the higher rank to the first occurence of a duplicate value)\n",
    "pace_df[\"rank\"] = pace_df[\"pace\"].rank(ascending=False, method=\"first\")"
   ]
  },
  {
   "cell_type": "code",
   "execution_count": 4,
   "metadata": {},
   "outputs": [
    {
     "name": "stdout",
     "output_type": "stream",
     "text": [
      "Mean:  99.99\n",
      " Std:  2.17\n"
     ]
    }
   ],
   "source": [
    "#find some descriptive stats for the pac\n",
    "pace_mean = pace_df[\"pace\"].mean()\n",
    "pace_std = pace_df[\"pace\"].std()\n",
    "\n",
    "print(\"Mean: \", round(pace_mean,2))\n",
    "print(\" Std: \", round(pace_std,2))\n"
   ]
  },
  {
   "cell_type": "code",
   "execution_count": 5,
   "metadata": {},
   "outputs": [],
   "source": [
    "#classify the teams by pace\n",
    "#label key\n",
    "# 0 - slower - a team that is more than 1 std below the mean\n",
    "# 1 - slow - a team that is less than 1 std below the mean\n",
    "# 2 - fast - a team that is less than 1 std above the mean\n",
    "# 3 - faster - a team that is more than 1 std above the mean\n",
    "def label_team_pace(pace, pace_mean, pace_std):\n",
    "    \n",
    "    if(pace < pace_mean): \n",
    "        if(pace < pace_mean-pace_std): #a slower team\n",
    "            label = 0\n",
    "        else: # a slow team\n",
    "            label = 1\n",
    "    else:\n",
    "        if(pace > pace_mean+pace_std): # a faster team\n",
    "            label = 3\n",
    "        else: # a fast team\n",
    "            label = 2\n",
    "    \n",
    "    return label\n",
    "\n",
    "#add the label to the team\n",
    "pace_df[\"pace_label\"] = pace_df.apply(lambda row: label_team_pace(row.pace, pace_mean, pace_std), axis=1)\n"
   ]
  },
  {
   "cell_type": "code",
   "execution_count": 6,
   "metadata": {},
   "outputs": [
    {
     "data": {
      "image/png": "[encoded data removed]",
      "text/plain": [
       "<Figure size 432x288 with 1 Axes>"
      ]
     },
     "metadata": {
      "needs_background": "light"
     },
     "output_type": "display_data"
    }
   ],
   "source": [
    "#a nice bar chart\n",
    "\n",
    "def label_colors(label):\n",
    "    if(label == 0):\n",
    "        return 'b'\n",
    "    elif(label == 1):\n",
    "        return 'r'\n",
    "    elif(label == 2):\n",
    "        return 'y'\n",
    "    else:\n",
    "        return 'g'\n",
    "\n",
    "#settings\n",
    "y_offset = 95\n",
    "y_min = 0\n",
    "y_max = 10\n",
    "y_step = 0.5\n",
    "\n",
    "#create the x and y sets and labels\n",
    "pace_y = pace_df[\"pace\"].apply(lambda x: x - y_offset)\n",
    "y_labels = np.arange(y_min+y_offset, y_max+y_offset, step=y_step)\n",
    "x_labels = pace_df[\"abbv\"]\n",
    "pace_x = np.arange(len(x_labels))\n",
    "color_labels = pace_df.apply(lambda row: label_colors(row.pace_label), axis=1)\n",
    "\n",
    "#graph it\n",
    "plt.bar(pace_x, pace_y, align=\"center\", alpha=0.5, color=color_labels)\n",
    "plt.xticks(pace_x, x_labels, rotation=\"vertical\")\n",
    "plt.yticks(np.arange(y_min, y_max, step=y_step), y_labels)\n",
    "plt.ylabel(\"Pace\")\n",
    "plt.title(\"Team's Season Pace 2018-2019\")\n",
    "plt.show()"
   ]
  },
  {
   "cell_type": "markdown",
   "metadata": {},
   "source": [
    "The bar graph shows a significant range in pace across teams in the NBA.  The Atlanata Hawks have the fastest pace of 103.9 possessions per game.  The Cleveland Cavaliers have the slowest pace with 96.6 possessions per game.  This gives a range of 7.3 possessions per game.  The average pace in the 2018-2019 season was 99.99 possessions/game with a standard deviation of 2.17 possessions/game.  ADD A LEGEND TO THE FIGURE TO EXPLAIN THE CLASSIFICATION AND COLOR OF EACH TEAM.  It's interesting to note the difference at the boundary of faster and fast teams.  The Thunder and Clippers have a difference of 1.1 possessions/game which is much larger than the boundary between the Rockets and Nuggets, which is 0.2 possessions.  There is a large differnce between the slowest two teams and the next highest.  The Grizzlies and Cavaliers both have a pace of 96.6, which is 0.8 possessions/game less than the next highest (Hornets - 97.4).  The higer differnece in a faster team's pace leads me to believe that a faster team will have a stronger effect on their opponents pace during a game.  The difference in pace will be measured by comparing the pace of the game to the teams season average."
   ]
  },
  {
   "cell_type": "code",
   "execution_count": 19,
   "metadata": {},
   "outputs": [],
   "source": [
    "#calculate the difference in a team's game pace from their season avg\n",
    "# parameter - game_pace - the pace for the game\n",
    "# parameter - team_abv - the team's abbreviation\n",
    "# returns - the difference in pace\n",
    "def calc_game_pace_difference(game_pace, team_abv):\n",
    "    team_id = team_id_dict[team_abv]\n",
    "    avg_pace = team_pace_dict[team_id]\n",
    "    \n",
    "    return float(game_pace) - float(avg_pace)\n",
    "\n",
    "#calc the difference between the two teams season avg pace\n",
    "# parameter - team_abv \n",
    "# parameter - opp_abv - the opponents abbreviation\n",
    "# returns the difference in pace\n",
    "def calc_team_pace_difference(team_abv, opp_abv):\n",
    "    team_id = team_id_dict[team_abv]\n",
    "    opp_id = team_id_dict[opp_abv]\n",
    "    \n",
    "    return float(team_pace_dict[team_id]) - float(team_pace_dict[opp_id])"
   ]
  },
  {
   "cell_type": "code",
   "execution_count": 30,
   "metadata": {},
   "outputs": [],
   "source": [
    "#get a dataframe of the teams gamelog and the pace stat\n",
    "TEAM_ABV = 'ATL'\n",
    "\n",
    "team_df = convert_gamelog_to_dataframe(TEAM_ABV, SEASON)\n",
    "team_df = team_df[[\"game_season\",\"id\",\"date_game\",\"game_location\",\"opp_id\", \"game_result\", \"pace\"]]\n"
   ]
  },
  {
   "cell_type": "code",
   "execution_count": 34,
   "metadata": {},
   "outputs": [
    {
     "data": {
      "text/html": [
       "<div>\n",
       "<style scoped>\n",
       "    .dataframe tbody tr th:only-of-type {\n",
       "        vertical-align: middle;\n",
       "    }\n",
       "\n",
       "    .dataframe tbody tr th {\n",
       "        vertical-align: top;\n",
       "    }\n",
       "\n",
       "    .dataframe thead th {\n",
       "        text-align: right;\n",
       "    }\n",
       "</style>\n",
       "<table border=\"1\" class=\"dataframe\">\n",
       "  <thead>\n",
       "    <tr style=\"text-align: right;\">\n",
       "      <th></th>\n",
       "      <th>game_pace_diff</th>\n",
       "      <th>team_pace_diff</th>\n",
       "    </tr>\n",
       "  </thead>\n",
       "  <tbody>\n",
       "    <tr>\n",
       "      <th>count</th>\n",
       "      <td>82.000000</td>\n",
       "      <td>82.000000</td>\n",
       "    </tr>\n",
       "    <tr>\n",
       "      <th>mean</th>\n",
       "      <td>3.847561</td>\n",
       "      <td>-0.148780</td>\n",
       "    </tr>\n",
       "    <tr>\n",
       "      <th>std</th>\n",
       "      <td>4.304211</td>\n",
       "      <td>2.002668</td>\n",
       "    </tr>\n",
       "    <tr>\n",
       "      <th>min</th>\n",
       "      <td>-3.900000</td>\n",
       "      <td>-3.700000</td>\n",
       "    </tr>\n",
       "    <tr>\n",
       "      <th>25%</th>\n",
       "      <td>0.925000</td>\n",
       "      <td>-1.800000</td>\n",
       "    </tr>\n",
       "    <tr>\n",
       "      <th>50%</th>\n",
       "      <td>3.300000</td>\n",
       "      <td>0.000000</td>\n",
       "    </tr>\n",
       "    <tr>\n",
       "      <th>75%</th>\n",
       "      <td>6.825000</td>\n",
       "      <td>1.500000</td>\n",
       "    </tr>\n",
       "    <tr>\n",
       "      <th>max</th>\n",
       "      <td>13.900000</td>\n",
       "      <td>3.000000</td>\n",
       "    </tr>\n",
       "  </tbody>\n",
       "</table>\n",
       "</div>"
      ],
      "text/plain": [
       "       game_pace_diff  team_pace_diff\n",
       "count       82.000000       82.000000\n",
       "mean         3.847561       -0.148780\n",
       "std          4.304211        2.002668\n",
       "min         -3.900000       -3.700000\n",
       "25%          0.925000       -1.800000\n",
       "50%          3.300000        0.000000\n",
       "75%          6.825000        1.500000\n",
       "max         13.900000        3.000000"
      ]
     },
     "execution_count": 34,
     "metadata": {},
     "output_type": "execute_result"
    }
   ],
   "source": [
    "#create the new columns\n",
    "team_df[\"game_pace_diff\"] = team_df.apply(lambda row: calc_game_pace_difference(row.pace, row.id), axis=1)\n",
    "team_df[\"team_pace_diff\"] = team_df.apply(lambda row: calc_team_pace_difference(row.id, row.opp_id), axis=1)\n",
    "\n",
    "team_df.describe()"
   ]
  },
  {
   "cell_type": "code",
   "execution_count": 33,
   "metadata": {},
   "outputs": [
    {
     "data": {
      "image/png": "[encoded data removed]",
      "text/plain": [
       "<Figure size 432x288 with 1 Axes>"
      ]
     },
     "metadata": {
      "needs_background": "light"
     },
     "output_type": "display_data"
    }
   ],
   "source": [
    "y = team_df[\"game_pace_diff\"]\n",
    "x = team_df[\"team_pace_diff\"]\n",
    "\n",
    "\n",
    "plt.scatter(x, y)\n",
    "plt.show()"
   ]
  }
 ],
 "metadata": {
  "kernelspec": {
   "display_name": "Python 3",
   "language": "python",
   "name": "python3"
  },
  "language_info": {
   "codemirror_mode": {
    "name": "ipython",
    "version": 3
   },
   "file_extension": ".py",
   "mimetype": "text/x-python",
   "name": "python",
   "nbconvert_exporter": "python",
   "pygments_lexer": "ipython3",
   "version": "3.6.4"
  }
 },
 "nbformat": 4,
 "nbformat_minor": 2
}
